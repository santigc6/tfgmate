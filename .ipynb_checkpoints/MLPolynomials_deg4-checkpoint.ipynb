{
 "cells": [
  {
   "cell_type": "markdown",
   "metadata": {},
   "source": [
    "### ML notebook"
   ]
  },
  {
   "cell_type": "code",
   "execution_count": 1,
   "metadata": {},
   "outputs": [],
   "source": [
    "n_samples = 1000\n",
    "gens_per_ideal = 2"
   ]
  },
  {
   "cell_type": "code",
   "execution_count": 2,
   "metadata": {},
   "outputs": [],
   "source": [
    "# P.<x,y> = PolynomialRing(QQ, 2, order='deglex')\n",
    "P.<x,y> = PolynomialRing(QQ, 2, order='lex')\n",
    "# P.<x,y> = PolynomialRing(QQ, 2, order='degrevlex')\n",
    "# P.<x,y> = PolynomialRing(QQ, 2, order=TermOrder('wdegrevlex',(1,3)))\n",
    "# P.<x,y> = PolynomialRing(QQ, 2, order=TermOrder('negwdegrevlex',(1,3)))"
   ]
  },
  {
   "cell_type": "markdown",
   "metadata": {},
   "source": [
    "#### Functions to create features and label"
   ]
  },
  {
   "cell_type": "code",
   "execution_count": 3,
   "metadata": {},
   "outputs": [],
   "source": [
    "def is_GB_worth(GB): # Receives a GB\n",
    "    n_depend1=0\n",
    "    n_depend2=0\n",
    "    for pol in GB:\n",
    "        depend_x=False\n",
    "        depend_y=False\n",
    "        \n",
    "        # Comprobamos si depende de x y de y\n",
    "        if pol.degree(x) > 0:\n",
    "            depend_x=True\n",
    "        if pol.degree(y) > 0:\n",
    "            depend_y=True\n",
    "            \n",
    "        # Actualizamos el numero de de polinomios que dependen de cada cosa\n",
    "        if depend_x and depend_y:\n",
    "            n_depend2 += 1\n",
    "        elif depend_x or depend_y:\n",
    "            n_depend1 += 1\n",
    "    if n_depend1 >= n_depend2:\n",
    "        return True\n",
    "    else:\n",
    "        return False\n",
    "    \n",
    "def terms_on_x(gens):\n",
    "    count=0\n",
    "    for item in gens:\n",
    "        for exp in item.exponents():\n",
    "            if exp[0] > 0:\n",
    "                count+=1\n",
    "    return count\n",
    "        \n",
    "def terms_on_y(gens):\n",
    "    count=0\n",
    "    for item in gens:\n",
    "        for exp in item.exponents():\n",
    "            if exp[1] > 0:\n",
    "                count+=1\n",
    "    return count"
   ]
  },
  {
   "cell_type": "code",
   "execution_count": 4,
   "metadata": {},
   "outputs": [],
   "source": [
    "from collections import defaultdict\n",
    "\n",
    "def n_homogeneous_comps(pol):\n",
    "    dic = defaultdict(pol.parent())\n",
    "    \n",
    "    for coeff,monom in pol:\n",
    "        dic[monom.degree()] += coeff * monom\n",
    "        \n",
    "    return len(dic)"
   ]
  },
  {
   "cell_type": "markdown",
   "metadata": {},
   "source": [
    "#### Voy a generar una lista de ideales para los polinomios generados aleatoriamente y con información adicional"
   ]
  },
  {
   "cell_type": "code",
   "execution_count": 5,
   "metadata": {
    "scrolled": true
   },
   "outputs": [
    {
     "data": {
      "text/plain": [
       "[[Ideal (1/6*x*y^3 - 2*x*y^2 - 3/4*x - 7/3*y^2, 3*x^2 - x*y + y^4 - 16*y - 1/2) of Multivariate Polynomial Ring in x, y over Rational Field,\n",
       "  0,\n",
       "  5,\n",
       "  6,\n",
       "  8,\n",
       "  True],\n",
       " [Ideal (-3/13*x^2*y^2 + 2*x^2*y + 4*x*y^3 - 1/2*x*y, 3*x^3*y - 10*x^3 - x + 2*y^3) of Multivariate Polynomial Ring in x, y over Rational Field,\n",
       "  0,\n",
       "  7,\n",
       "  6,\n",
       "  6,\n",
       "  False],\n",
       " [Ideal (4/21*x*y^2 + 1/2*x + 3*y^4 + 1/3, 2/55*x^3*y + 1/11*x^3 + 1/5*x^2*y^2 - 1/2*x*y^2 - 1/9*x*y) of Multivariate Polynomial Ring in x, y over Rational Field,\n",
       "  0,\n",
       "  7,\n",
       "  6,\n",
       "  7,\n",
       "  True]]"
      ]
     },
     "execution_count": 5,
     "metadata": {},
     "output_type": "execute_result"
    }
   ],
   "source": [
    "lstOfIdeals = []\n",
    "\n",
    "for i in range(n_samples):\n",
    "    generators = []\n",
    "    n_homogeneous = 0\n",
    "    total_homogeneous_comps=0\n",
    "    \n",
    "    for j in range(gens_per_ideal):\n",
    "        p = P.random_element(degree=4)\n",
    "        \n",
    "        # homogeneous components for the given polynomial\n",
    "        total_homogeneous_comps += n_homogeneous_comps(p)\n",
    "        \n",
    "        generators.append(p)\n",
    "        if p.is_homogeneous():\n",
    "            n_homogeneous += 1\n",
    "    \n",
    "    # Definimos el ideal a partir de los generadores anteriores\n",
    "    I = ideal(generators)\n",
    "    B = I.groebner_basis()\n",
    "    lstOfIdeals.append([I, \n",
    "                        n_homogeneous, \n",
    "                        terms_on_x(generators), \n",
    "                        terms_on_y(generators), \n",
    "                        total_homogeneous_comps, \n",
    "                        is_GB_worth(B)])\n",
    "\n",
    "# Conjunto de polinomios generado de manera aleatoria\n",
    "lstOfIdeals[:3]"
   ]
  },
  {
   "cell_type": "code",
   "execution_count": 6,
   "metadata": {},
   "outputs": [
    {
     "name": "stdout",
     "output_type": "stream",
     "text": [
      "Requirement already satisfied: numpy in /home/santi/SageMath/local/lib/python2.7/site-packages (1.16.1)\r\n",
      "Requirement already satisfied: scipy in /home/santi/SageMath/local/lib/python2.7/site-packages (1.2.0)\r\n",
      "Requirement already satisfied: sklearn in /home/santi/SageMath/local/lib/python2.7/site-packages (0.0)\r\n",
      "Requirement already satisfied: pandas in /home/santi/SageMath/local/lib/python2.7/site-packages (0.24.2)\r\n",
      "Requirement already satisfied: scikit-learn in /home/santi/SageMath/local/lib/python2.7/site-packages (from sklearn) (0.20.4)\r\n",
      "Requirement already satisfied: python-dateutil>=2.5.0 in /home/santi/SageMath/local/lib/python2.7/site-packages (from pandas) (2.5.3)\r\n",
      "Requirement already satisfied: pytz>=2011k in /home/santi/SageMath/local/lib/python2.7/site-packages (from pandas) (2018.7)\r\n",
      "Requirement already satisfied: six>=1.5 in /home/santi/SageMath/local/lib/python2.7/site-packages (from python-dateutil>=2.5.0->pandas) (1.12.0)\r\n"
     ]
    }
   ],
   "source": [
    "!sage --pip install numpy scipy sklearn pandas"
   ]
  },
  {
   "cell_type": "markdown",
   "metadata": {},
   "source": [
    "#### Definimos las features"
   ]
  },
  {
   "cell_type": "code",
   "execution_count": 7,
   "metadata": {},
   "outputs": [],
   "source": [
    "import numpy as np\n",
    "\n",
    "X = np.array([[item[1],item[2],item[3],item[4]] for item in lstOfIdeals])\n",
    "y = np.array([item[5] for item in lstOfIdeals])"
   ]
  },
  {
   "cell_type": "code",
   "execution_count": 8,
   "metadata": {},
   "outputs": [
    {
     "data": {
      "text/plain": [
       "array([[0, 5, 6, 8],\n",
       "       [0, 7, 6, 6],\n",
       "       [0, 7, 6, 7],\n",
       "       [0, 4, 5, 6],\n",
       "       [0, 5, 7, 7]])"
      ]
     },
     "execution_count": 8,
     "metadata": {},
     "output_type": "execute_result"
    }
   ],
   "source": [
    "X[:5]"
   ]
  },
  {
   "cell_type": "code",
   "execution_count": 9,
   "metadata": {},
   "outputs": [
    {
     "data": {
      "text/plain": [
       "array([ True, False,  True,  True,  True])"
      ]
     },
     "execution_count": 9,
     "metadata": {},
     "output_type": "execute_result"
    }
   ],
   "source": [
    "y[:5]"
   ]
  },
  {
   "cell_type": "code",
   "execution_count": 10,
   "metadata": {},
   "outputs": [],
   "source": [
    "from sklearn.model_selection import train_test_split\n",
    "\n",
    "X_train, X_test, y_train, y_test = train_test_split(X, y, test_size=0.33, random_state=42)"
   ]
  },
  {
   "cell_type": "code",
   "execution_count": 11,
   "metadata": {
    "scrolled": false
   },
   "outputs": [],
   "source": [
    "from sklearn import svm\n",
    "\n",
    "classifier = svm.SVC()"
   ]
  },
  {
   "cell_type": "code",
   "execution_count": 12,
   "metadata": {},
   "outputs": [
    {
     "name": "stderr",
     "output_type": "stream",
     "text": [
      "/home/santi/SageMath/local/lib/python2.7/site-packages/sklearn/svm/base.py:196: FutureWarning: The default value of gamma will change from 'auto' to 'scale' in version 0.22 to account better for unscaled features. Set gamma explicitly to 'auto' or 'scale' to avoid this warning.\n",
      "  \"avoid this warning.\", FutureWarning)\n"
     ]
    },
    {
     "data": {
      "text/plain": [
       "SVC(C=1.0, cache_size=200, class_weight=None, coef0=0.0,\n",
       "  decision_function_shape='ovr', degree=3, gamma='auto_deprecated',\n",
       "  kernel='rbf', max_iter=-1, probability=False, random_state=None,\n",
       "  shrinking=True, tol=0.001, verbose=False)"
      ]
     },
     "execution_count": 12,
     "metadata": {},
     "output_type": "execute_result"
    }
   ],
   "source": [
    "classifier.fit(X_train, y_train)"
   ]
  },
  {
   "cell_type": "code",
   "execution_count": 13,
   "metadata": {},
   "outputs": [],
   "source": [
    "preds = classifier.predict(X_test)"
   ]
  },
  {
   "cell_type": "code",
   "execution_count": 14,
   "metadata": {},
   "outputs": [],
   "source": [
    "hits=0\n",
    "fails=0\n",
    "for i in range(len(y_test)):\n",
    "    if y_test[i] == preds[i]:\n",
    "        hits+=1\n",
    "    else:\n",
    "        fails+=1"
   ]
  },
  {
   "cell_type": "code",
   "execution_count": 15,
   "metadata": {},
   "outputs": [
    {
     "name": "stdout",
     "output_type": "stream",
     "text": [
      "('Hits: 233', 'Fails: 97')\n"
     ]
    }
   ],
   "source": [
    "print('Hits: ' + str(hits), 'Fails: '+str(fails))"
   ]
  }
 ],
 "metadata": {
  "kernelspec": {
   "display_name": "SageMath 8.9",
   "language": "sage",
   "name": "sagemath"
  },
  "language_info": {
   "codemirror_mode": {
    "name": "ipython",
    "version": 2
   },
   "file_extension": ".py",
   "mimetype": "text/x-python",
   "name": "python",
   "nbconvert_exporter": "python",
   "pygments_lexer": "ipython2",
   "version": "2.7.15"
  }
 },
 "nbformat": 4,
 "nbformat_minor": 2
}

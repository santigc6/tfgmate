{
 "cells": [
  {
   "cell_type": "markdown",
   "metadata": {},
   "source": [
    "### ML notebook"
   ]
  },
  {
   "cell_type": "code",
   "execution_count": 1,
   "metadata": {},
   "outputs": [],
   "source": [
    "n_samples = 10000\n",
    "gens_per_ideal = 3"
   ]
  },
  {
   "cell_type": "code",
   "execution_count": 2,
   "metadata": {},
   "outputs": [],
   "source": [
    "# P.<x,y> = PolynomialRing(QQ, 2, order='deglex')\n",
    "P.<x,y> = PolynomialRing(QQ, 2, order='lex')\n",
    "# P.<x,y> = PolynomialRing(QQ, 2, order='degrevlex')\n",
    "# P.<x,y> = PolynomialRing(QQ, 2, order=TermOrder('wdegrevlex',(1,3)))\n",
    "# P.<x,y> = PolynomialRing(QQ, 2, order=TermOrder('negwdegrevlex',(1,3)))"
   ]
  },
  {
   "cell_type": "markdown",
   "metadata": {},
   "source": [
    "#### Functions to create features and label"
   ]
  },
  {
   "cell_type": "code",
   "execution_count": 3,
   "metadata": {},
   "outputs": [],
   "source": [
    "def is_GB_worth(GB): # Receives a GB\n",
    "    n_depend1=0\n",
    "    n_depend2=0\n",
    "    for pol in GB:\n",
    "        depend_x=False\n",
    "        depend_y=False\n",
    "        \n",
    "        # Comprobamos si depende de x y de y\n",
    "        if pol.degree(x) > 0:\n",
    "            depend_x=True\n",
    "        if pol.degree(y) > 0:\n",
    "            depend_y=True\n",
    "            \n",
    "        # Actualizamos el numero de de polinomios que dependen de cada cosa\n",
    "        if depend_x and depend_y:\n",
    "            n_depend2 += 1\n",
    "        elif depend_x or depend_y:\n",
    "            n_depend1 += 1\n",
    "    if n_depend1 >= n_depend2:\n",
    "        return True\n",
    "    else:\n",
    "        return False\n",
    "    \n",
    "def terms_on_x(gens):\n",
    "    count=0\n",
    "    for item in gens:\n",
    "        for exp in item.exponents():\n",
    "            if exp[0] > 0:\n",
    "                count+=1\n",
    "    return count\n",
    "        \n",
    "def terms_on_y(gens):\n",
    "    count=0\n",
    "    for item in gens:\n",
    "        for exp in item.exponents():\n",
    "            if exp[1] > 0:\n",
    "                count+=1\n",
    "    return count"
   ]
  },
  {
   "cell_type": "code",
   "execution_count": 4,
   "metadata": {},
   "outputs": [],
   "source": [
    "from collections import defaultdict\n",
    "\n",
    "def n_homogeneous_comps(pol):\n",
    "    dic = defaultdict(pol.parent())\n",
    "    \n",
    "    for coeff,monom in pol:\n",
    "        dic[monom.degree()] += coeff * monom\n",
    "        \n",
    "    return len(dic)"
   ]
  },
  {
   "cell_type": "markdown",
   "metadata": {},
   "source": [
    "#### Voy a generar una lista de ideales para los polinomios generados aleatoriamente y con información adicional"
   ]
  },
  {
   "cell_type": "code",
   "execution_count": 5,
   "metadata": {
    "scrolled": true
   },
   "outputs": [
    {
     "data": {
      "text/plain": [
       "[[Ideal (-13*x^4 - 1/3*x*y^3 + 81*y^3, 3*x^4*y + 8/3*x^2*y^3 + 1, 10/3*x^2*y - 4/3*x^2 + 1/2) of Multivariate Polynomial Ring in x, y over Rational Field,\n",
       "  0,\n",
       "  6,\n",
       "  5,\n",
       "  1,\n",
       "  7,\n",
       "  True],\n",
       " [Ideal (-1/5*x^4*y - 3/4*y^3 + 1/2, x^3 + 1/2*x^2*y^3 - 1/3*x^2*y - 1/238*y^4, x^4*y + 1/7*x - y^5 - 1/2*y - 1) of Multivariate Polynomial Ring in x, y over Rational Field,\n",
       "  0,\n",
       "  6,\n",
       "  8,\n",
       "  -2,\n",
       "  9,\n",
       "  True],\n",
       " [Ideal (-x^4*y + x^3 - x - 1, x*y^4 - y^5 - 11*y^2, 1/18*x^2*y^2) of Multivariate Polynomial Ring in x, y over Rational Field,\n",
       "  1,\n",
       "  5,\n",
       "  5,\n",
       "  0,\n",
       "  7,\n",
       "  True]]"
      ]
     },
     "execution_count": 5,
     "metadata": {},
     "output_type": "execute_result"
    }
   ],
   "source": [
    "lstOfIdeals = []\n",
    "\n",
    "for i in range(n_samples):\n",
    "    generators = []\n",
    "    n_homogeneous = 0\n",
    "    total_homogeneous_comps=0\n",
    "    \n",
    "    for j in range(gens_per_ideal):\n",
    "        p = P.random_element(degree=5)\n",
    "        \n",
    "        # homogeneous components for the given polynomial\n",
    "        total_homogeneous_comps += n_homogeneous_comps(p)\n",
    "        \n",
    "        generators.append(p)\n",
    "        if p.is_homogeneous():\n",
    "            n_homogeneous += 1\n",
    "    \n",
    "    # Definimos el ideal a partir de los generadores anteriores\n",
    "    I = ideal(generators)\n",
    "    B = I.groebner_basis()\n",
    "    lstOfIdeals.append([I, \n",
    "                        n_homogeneous, \n",
    "                        terms_on_x(generators), \n",
    "                        terms_on_y(generators), \n",
    "                        terms_on_x(generators) - terms_on_y(generators),\n",
    "                        total_homogeneous_comps, \n",
    "                        is_GB_worth(B)])\n",
    "\n",
    "# Conjunto de polinomios generado de manera aleatoria\n",
    "lstOfIdeals[:3]"
   ]
  },
  {
   "cell_type": "code",
   "execution_count": 6,
   "metadata": {},
   "outputs": [
    {
     "name": "stdout",
     "output_type": "stream",
     "text": [
      "Requirement already satisfied: numpy in /home/santi/SageMath/local/lib/python2.7/site-packages (1.16.1)\n",
      "Requirement already satisfied: scipy in /home/santi/SageMath/local/lib/python2.7/site-packages (1.2.0)\n",
      "Requirement already satisfied: sklearn in /home/santi/SageMath/local/lib/python2.7/site-packages (0.0)\n",
      "Requirement already satisfied: pandas in /home/santi/SageMath/local/lib/python2.7/site-packages (0.24.2)\n",
      "Requirement already satisfied: scikit-learn in /home/santi/SageMath/local/lib/python2.7/site-packages (from sklearn) (0.20.4)\n",
      "Requirement already satisfied: python-dateutil>=2.5.0 in /home/santi/SageMath/local/lib/python2.7/site-packages (from pandas) (2.5.3)\n",
      "Requirement already satisfied: pytz>=2011k in /home/santi/SageMath/local/lib/python2.7/site-packages (from pandas) (2018.7)\n",
      "Requirement already satisfied: six>=1.5 in /home/santi/SageMath/local/lib/python2.7/site-packages (from python-dateutil>=2.5.0->pandas) (1.12.0)\n"
     ]
    }
   ],
   "source": [
    "!sage --pip install numpy scipy sklearn pandas"
   ]
  },
  {
   "cell_type": "markdown",
   "metadata": {},
   "source": [
    "#### Definimos las features"
   ]
  },
  {
   "cell_type": "code",
   "execution_count": 7,
   "metadata": {},
   "outputs": [],
   "source": [
    "import numpy as np\n",
    "\n",
    "X = np.array([[item[1],item[2],item[3],item[4],item[5]] for item in lstOfIdeals])\n",
    "y = np.array([item[6] for item in lstOfIdeals])"
   ]
  },
  {
   "cell_type": "code",
   "execution_count": 8,
   "metadata": {},
   "outputs": [
    {
     "data": {
      "text/plain": [
       "array([[ 0,  6,  5,  1,  7],\n",
       "       [ 0,  6,  8, -2,  9],\n",
       "       [ 1,  5,  5,  0,  7],\n",
       "       [ 0,  9, 10, -1, 13],\n",
       "       [ 0,  7,  6,  1, 10]])"
      ]
     },
     "execution_count": 8,
     "metadata": {},
     "output_type": "execute_result"
    }
   ],
   "source": [
    "X[:5]"
   ]
  },
  {
   "cell_type": "code",
   "execution_count": 9,
   "metadata": {},
   "outputs": [
    {
     "data": {
      "text/plain": [
       "array([ True,  True,  True,  True,  True])"
      ]
     },
     "execution_count": 9,
     "metadata": {},
     "output_type": "execute_result"
    }
   ],
   "source": [
    "y[:5]"
   ]
  },
  {
   "cell_type": "code",
   "execution_count": 10,
   "metadata": {},
   "outputs": [],
   "source": [
    "from sklearn.model_selection import train_test_split\n",
    "\n",
    "X_train, X_test, y_train, y_test = train_test_split(X, y, test_size=0.33, random_state=42)"
   ]
  },
  {
   "cell_type": "code",
   "execution_count": 11,
   "metadata": {
    "scrolled": false
   },
   "outputs": [],
   "source": [
    "from sklearn import svm\n",
    "\n",
    "# classifier = svm.SVC(C=57.55191991686398, \n",
    "#                      class_weight='balanced', \n",
    "#                      gamma=0.005838467078070335,\n",
    "#                      kernel='rbf') # It isnt needed because it uses rbf as default\n",
    "# classifier = svm.SVC()\n",
    "classifier = svm.SVC(C= 4096, class_weight= None, gamma= 1/8192, kernel= 'rbf')"
   ]
  },
  {
   "cell_type": "code",
   "execution_count": 12,
   "metadata": {},
   "outputs": [],
   "source": [
    "import scipy\n",
    "\n",
    "# distributions = {'C': [2**(x) for x in range(-5, 16)],\n",
    "#                  'gamma': [2**(x) for x in range(-15, 4)],\n",
    "#                  'kernel': ['rbf'],\n",
    "#                  'class_weight':['balanced', None]}\n",
    "\n",
    "# Parameter distributions to use in the randomized search\n",
    "#distributions={'C': scipy.stats.expon(scale=100), 'gamma': scipy.stats.expon(scale=.1),\n",
    "# 'kernel': ['rbf', 'linear'], 'class_weight':['balanced', None]}"
   ]
  },
  {
   "cell_type": "code",
   "execution_count": 13,
   "metadata": {},
   "outputs": [],
   "source": [
    "# Random search is far more efficient than grid search\n",
    "# from sklearn.model_selection import RandomizedSearchCV\n",
    "\n",
    "# clf = RandomizedSearchCV(classifier, distributions, random_state=0)\n",
    "# search = clf.fit(X_train, y_train)\n",
    "# search.best_params_"
   ]
  },
  {
   "cell_type": "code",
   "execution_count": 14,
   "metadata": {},
   "outputs": [
    {
     "data": {
      "text/plain": [
       "SVC(C=4096, cache_size=200, class_weight=None, coef0=0.0,\n",
       "  decision_function_shape='ovr', degree=3, gamma=1/8192, kernel='rbf',\n",
       "  max_iter=-1, probability=False, random_state=None, shrinking=True,\n",
       "  tol=0.001, verbose=False)"
      ]
     },
     "execution_count": 14,
     "metadata": {},
     "output_type": "execute_result"
    }
   ],
   "source": [
    "classifier.fit(X_train, y_train)"
   ]
  },
  {
   "cell_type": "code",
   "execution_count": 15,
   "metadata": {},
   "outputs": [],
   "source": [
    "preds = classifier.predict(X_test)"
   ]
  },
  {
   "cell_type": "code",
   "execution_count": 16,
   "metadata": {},
   "outputs": [],
   "source": [
    "hits=0\n",
    "fails=0\n",
    "for i in range(len(y_test)):\n",
    "    if y_test[i] == preds[i]:\n",
    "        hits+=1\n",
    "    else:\n",
    "        fails+=1"
   ]
  },
  {
   "cell_type": "code",
   "execution_count": 17,
   "metadata": {},
   "outputs": [
    {
     "name": "stdout",
     "output_type": "stream",
     "text": [
      "('Hits: 3116', 'Fails: 184')\n"
     ]
    }
   ],
   "source": [
    "print('Hits: ' + str(hits), 'Fails: '+str(fails))"
   ]
  }
 ],
 "metadata": {
  "kernelspec": {
   "display_name": "SageMath 8.9",
   "language": "sage",
   "name": "sagemath"
  },
  "language_info": {
   "codemirror_mode": {
    "name": "ipython",
    "version": 2
   },
   "file_extension": ".py",
   "mimetype": "text/x-python",
   "name": "python",
   "nbconvert_exporter": "python",
   "pygments_lexer": "ipython2",
   "version": "2.7.15"
  }
 },
 "nbformat": 4,
 "nbformat_minor": 2
}

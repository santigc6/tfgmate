{
 "cells": [
  {
   "cell_type": "code",
   "execution_count": 2,
   "metadata": {},
   "outputs": [],
   "source": [
    "P.<x,y,z> = PolynomialRing(QQ, 3, order='deglex')"
   ]
  },
  {
   "cell_type": "code",
   "execution_count": 3,
   "metadata": {},
   "outputs": [
    {
     "name": "stdout",
     "output_type": "stream",
     "text": [
      "[x^6 - 1/4*z^3, x^5*y - 1/2*z^4, x^4*y^2 - z^5, x^3*y^3 - 1, x^2*y^4 - 2*z, x*y^5 - 4*z^2, y^6 - 8*z^3, y^5*z - 16*x^5, y^4*z^2 - 8*x^4, y^3*z^3 - 4*x^3, y^2*z^4 - 2*x^2, y*z^5 - x, z^6 - 1/2, x*z - 1/2*y]\n",
      "14\n"
     ]
    }
   ],
   "source": [
    "I = ideal(x^4*y^2 - z^5,  x^3*y^3 - 1, x^2*y^4 - 2*z)\n",
    "B = I.groebner_basis()\n",
    "print B\n",
    "print len(B)"
   ]
  }
 ],
 "metadata": {
  "kernelspec": {
   "display_name": "SageMath 8.9",
   "language": "sage",
   "name": "sagemath"
  },
  "language_info": {
   "codemirror_mode": {
    "name": "ipython",
    "version": 2
   },
   "file_extension": ".py",
   "mimetype": "text/x-python",
   "name": "python",
   "nbconvert_exporter": "python",
   "pygments_lexer": "ipython2",
   "version": "2.7.15"
  }
 },
 "nbformat": 4,
 "nbformat_minor": 2
}

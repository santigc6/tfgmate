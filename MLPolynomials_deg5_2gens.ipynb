{
 "cells": [
  {
   "cell_type": "markdown",
   "metadata": {},
   "source": [
    "### ML notebook"
   ]
  },
  {
   "cell_type": "code",
   "execution_count": 58,
   "metadata": {},
   "outputs": [],
   "source": [
    "n_samples = 10000\n",
    "gens_per_ideal = 2"
   ]
  },
  {
   "cell_type": "code",
   "execution_count": 59,
   "metadata": {},
   "outputs": [],
   "source": [
    "# P.<x,y> = PolynomialRing(QQ, 2, order='deglex')\n",
    "P.<x,y> = PolynomialRing(QQ, 2, order='lex')\n",
    "# P.<x,y> = PolynomialRing(QQ, 2, order='degrevlex')\n",
    "# P.<x,y> = PolynomialRing(QQ, 2, order=TermOrder('wdegrevlex',(1,3)))\n",
    "# P.<x,y> = PolynomialRing(QQ, 2, order=TermOrder('negwdegrevlex',(1,3)))"
   ]
  },
  {
   "cell_type": "markdown",
   "metadata": {},
   "source": [
    "#### Functions to create features and label the each sample"
   ]
  },
  {
   "cell_type": "code",
   "execution_count": 60,
   "metadata": {},
   "outputs": [],
   "source": [
    "def is_GB_worth(GB): # Receives a GB\n",
    "    n_depend1=0\n",
    "    n_depend2=0\n",
    "    for pol in GB:\n",
    "        depend_x=False\n",
    "        depend_y=False\n",
    "        \n",
    "        # Comprobamos si depende de x y de y\n",
    "        if pol.degree(x) > 0:\n",
    "            depend_x=True\n",
    "        if pol.degree(y) > 0:\n",
    "            depend_y=True\n",
    "            \n",
    "        # Actualizamos el numero de de polinomios que dependen de cada cosa\n",
    "        if depend_x and depend_y:\n",
    "            n_depend2 += 1\n",
    "        elif depend_x or depend_y:\n",
    "            n_depend1 += 1\n",
    "    if n_depend1 >= n_depend2:\n",
    "        return True\n",
    "    else:\n",
    "        return False"
   ]
  },
  {
   "cell_type": "code",
   "execution_count": 61,
   "metadata": {},
   "outputs": [],
   "source": [
    "def max_deg_on_x(gens):\n",
    "    maximum = -1\n",
    "    for item in gens:\n",
    "        for exp in item.exponents():\n",
    "            if exp[0] > maximum:\n",
    "                maximum = exp[0]\n",
    "    return maximum\n",
    "        \n",
    "def max_deg_on_y(gens):\n",
    "    maximum = -1\n",
    "    for item in gens:\n",
    "        for exp in item.exponents():\n",
    "            if exp[1] > maximum:\n",
    "                maximum = exp[1]\n",
    "    return maximum\n",
    "\n",
    "def max_total_deg(gens):\n",
    "    return max([f.degree(std_grading=True) for f in gens]) \n",
    "\n",
    "def sum_total_deg(gens):\n",
    "    return sum([f.degree(std_grading=True) for f in gens])\n",
    "\n",
    "def proportion_on_x(gens):\n",
    "    count=0\n",
    "    for item in gens:\n",
    "        for exp in item.exponents():\n",
    "            if exp[0] > 0:\n",
    "                count+=1\n",
    "    return count/len(gens)\n",
    "    \n",
    "def proportion_on_y(gens):\n",
    "    count=0\n",
    "    for item in gens:\n",
    "        for exp in item.exponents():\n",
    "            if exp[1] > 0:\n",
    "                count+=1\n",
    "    return count/len(gens)\n",
    "\n",
    "def terms_on_x(gens):\n",
    "    count=0\n",
    "    for item in gens:\n",
    "        for exp in item.exponents():\n",
    "            if exp[0] > 0:\n",
    "                count+=1\n",
    "    return count\n",
    "        \n",
    "def terms_on_y(gens):\n",
    "    count=0\n",
    "    for item in gens:\n",
    "        for exp in item.exponents():\n",
    "            if exp[1] > 0:\n",
    "                count+=1\n",
    "    return count"
   ]
  },
  {
   "cell_type": "code",
   "execution_count": 62,
   "metadata": {},
   "outputs": [],
   "source": [
    "from collections import defaultdict\n",
    "\n",
    "def n_homogeneous_comps(pol):\n",
    "    dic = defaultdict(pol.parent())\n",
    "    \n",
    "    for coeff,monom in pol:\n",
    "        dic[monom.degree()] += coeff * monom\n",
    "        \n",
    "    return len(dic)"
   ]
  },
  {
   "cell_type": "markdown",
   "metadata": {},
   "source": [
    "#### Voy a generar una lista de ideales para los polinomios generados aleatoriamente y con información adicional"
   ]
  },
  {
   "cell_type": "code",
   "execution_count": 63,
   "metadata": {
    "scrolled": true
   },
   "outputs": [
    {
     "data": {
      "text/plain": [
       "[[Ideal (1/2*x^4*y + y^5 + y^2 - 1/3, -3/64*x^4 + 3/2*x^2*y^3 + 1/3*x^2*y^2 + 6*x^2*y - 1/4*x*y^3) of Multivariate Polynomial Ring in x, y over Rational Field,\n",
       "  0,\n",
       "  4,\n",
       "  5,\n",
       "  3,\n",
       "  7/2,\n",
       "  1,\n",
       "  6,\n",
       "  5,\n",
       "  10,\n",
       "  True],\n",
       " [Ideal (-x^4 + 8*x*y^2 - y^5 + 1/18*y^2, -2*x^4 - 1/3*x^3*y^2 - x^3*y - 1/5*x*y - 1/9) of Multivariate Polynomial Ring in x, y over Rational Field,\n",
       "  0,\n",
       "  4,\n",
       "  5,\n",
       "  3,\n",
       "  3,\n",
       "  0,\n",
       "  8,\n",
       "  5,\n",
       "  10,\n",
       "  True],\n",
       " [Ideal (3*x^2*y^2 + 1/25*x^2*y - 9/4*x*y^4 - 2/3*x*y - 1, 2/3*x^4*y + 3*x*y - 1/6*x) of Multivariate Polynomial Ring in x, y over Rational Field,\n",
       "  0,\n",
       "  4,\n",
       "  4,\n",
       "  7/2,\n",
       "  3,\n",
       "  1,\n",
       "  8,\n",
       "  5,\n",
       "  10,\n",
       "  True]]"
      ]
     },
     "execution_count": 63,
     "metadata": {},
     "output_type": "execute_result"
    }
   ],
   "source": [
    "lstOfIdeals = []\n",
    "\n",
    "for i in range(n_samples):\n",
    "    generators = []\n",
    "    n_homogeneous = 0\n",
    "    total_homogeneous_comps=0\n",
    "    \n",
    "    for j in range(gens_per_ideal):\n",
    "        p = P.random_element(degree=5)\n",
    "        \n",
    "        # homogeneous components for the given polynomial\n",
    "        total_homogeneous_comps += n_homogeneous_comps(p)\n",
    "        \n",
    "        generators.append(p)\n",
    "        if p.is_homogeneous():\n",
    "            n_homogeneous += 1\n",
    "    \n",
    "    # Definimos el ideal a partir de los generadores anteriores\n",
    "    I = ideal(generators)\n",
    "    B = I.groebner_basis()\n",
    "    lstOfIdeals.append([I, \n",
    "                        n_homogeneous, \n",
    "                        max_deg_on_x(generators), \n",
    "                        max_deg_on_y(generators),\n",
    "                        proportion_on_x(generators),\n",
    "                        proportion_on_y(generators),\n",
    "                        abs(terms_on_x(generators) - terms_on_y(generators)),\n",
    "                        total_homogeneous_comps,\n",
    "                        max_total_deg(generators),\n",
    "                        sum_total_deg(generators),\n",
    "                        is_GB_worth(B)])\n",
    "\n",
    "# Conjunto de polinomios generado de manera aleatoria\n",
    "lstOfIdeals[:3]"
   ]
  },
  {
   "cell_type": "code",
   "execution_count": 64,
   "metadata": {},
   "outputs": [
    {
     "name": "stdout",
     "output_type": "stream",
     "text": [
      "Requirement already satisfied: numpy in /home/santi/SageMath/local/lib/python2.7/site-packages (1.16.1)\r\n",
      "Requirement already satisfied: scipy in /home/santi/SageMath/local/lib/python2.7/site-packages (1.2.0)\r\n",
      "Requirement already satisfied: sklearn in /home/santi/SageMath/local/lib/python2.7/site-packages (0.0)\r\n",
      "Requirement already satisfied: pandas in /home/santi/SageMath/local/lib/python2.7/site-packages (0.24.2)\r\n",
      "Requirement already satisfied: scikit-learn in /home/santi/SageMath/local/lib/python2.7/site-packages (from sklearn) (0.20.4)\r\n",
      "Requirement already satisfied: python-dateutil>=2.5.0 in /home/santi/SageMath/local/lib/python2.7/site-packages (from pandas) (2.5.3)\r\n",
      "Requirement already satisfied: pytz>=2011k in /home/santi/SageMath/local/lib/python2.7/site-packages (from pandas) (2018.7)\r\n",
      "Requirement already satisfied: six>=1.5 in /home/santi/SageMath/local/lib/python2.7/site-packages (from python-dateutil>=2.5.0->pandas) (1.12.0)\r\n"
     ]
    }
   ],
   "source": [
    "!sage --pip install numpy scipy sklearn pandas"
   ]
  },
  {
   "cell_type": "markdown",
   "metadata": {},
   "source": [
    "#### Definimos las features"
   ]
  },
  {
   "cell_type": "code",
   "execution_count": 65,
   "metadata": {},
   "outputs": [],
   "source": [
    "import numpy as np\n",
    "\n",
    "X = np.array([[item[1],\n",
    "               item[2],\n",
    "               item[3],\n",
    "               item[4],\n",
    "               item[5],\n",
    "               item[6],\n",
    "               item[7],\n",
    "               item[8],\n",
    "               item[9]] for item in lstOfIdeals])\n",
    "y = np.array([item[10] for item in lstOfIdeals])"
   ]
  },
  {
   "cell_type": "code",
   "execution_count": 66,
   "metadata": {},
   "outputs": [
    {
     "data": {
      "text/plain": [
       "array([[ 0. ,  4. ,  5. ,  3. ,  3.5,  1. ,  6. ,  5. , 10. ],\n",
       "       [ 0. ,  4. ,  5. ,  3. ,  3. ,  0. ,  8. ,  5. , 10. ],\n",
       "       [ 0. ,  4. ,  4. ,  3.5,  3. ,  1. ,  8. ,  5. , 10. ],\n",
       "       [ 0. ,  3. ,  3. ,  3.5,  2.5,  2. ,  6. ,  5. ,  8. ],\n",
       "       [ 0. ,  4. ,  4. ,  2. ,  4. ,  4. ,  6. ,  5. ,  9. ]])"
      ]
     },
     "execution_count": 66,
     "metadata": {},
     "output_type": "execute_result"
    }
   ],
   "source": [
    "X[:5]"
   ]
  },
  {
   "cell_type": "code",
   "execution_count": 67,
   "metadata": {},
   "outputs": [
    {
     "data": {
      "text/plain": [
       "array([ True,  True,  True,  True, False])"
      ]
     },
     "execution_count": 67,
     "metadata": {},
     "output_type": "execute_result"
    }
   ],
   "source": [
    "y[:5]"
   ]
  },
  {
   "cell_type": "code",
   "execution_count": 68,
   "metadata": {},
   "outputs": [],
   "source": [
    "from sklearn.model_selection import train_test_split\n",
    "\n",
    "X_train, X_test, y_train, y_test = train_test_split(X, y, test_size=0.33, random_state=42)"
   ]
  },
  {
   "cell_type": "code",
   "execution_count": 69,
   "metadata": {
    "scrolled": false
   },
   "outputs": [],
   "source": [
    "from sklearn.linear_model import LogisticRegression\n",
    "from sklearn.neighbors import KNeighborsClassifier\n",
    "from sklearn.naive_bayes import GaussianNB\n",
    "from sklearn.tree import DecisionTreeClassifier\n",
    "from sklearn.svm import SVC\n",
    "# classifier = SVC(C=57.55191991686398, \n",
    "#                      class_weight='balanced', \n",
    "#                      gamma=0.005838467078070335,\n",
    "#                      kernel='rbf') # It isnt needed because it uses rbf as default\n",
    "\n",
    "# classifier = SVC() #0.641515151515\n",
    "# classifier= KNeighborsClassifier() #0.603333333333\n",
    "# classifier=LogisticRegression() #0.640606060606\n",
    "# classifier=DecisionTreeClassifier() #0.590909090909\n",
    "# classifier=GaussianNB() #0.617878787879\n",
    "\n",
    "classifier = SVC(C= 1024, class_weight= 'balanced', gamma= 1/1024, kernel= 'rbf')\n",
    "\n",
    "# classifier = SVC(C= 57.55191991686398, class_weight= 'balanced', gamma= 0.005838467078070335, kernel= 'rbf')\n",
    "# classifier = SVC(C= 4096, class_weight= None, gamma= 1/8192, kernel= 'rbf')"
   ]
  },
  {
   "cell_type": "code",
   "execution_count": 70,
   "metadata": {},
   "outputs": [],
   "source": [
    "import scipy\n",
    "\n",
    "# distributions = {'C': [2**(x) for x in range(-5, 16)],\n",
    "#                  'gamma': [2**(x) for x in range(-15, 4)],\n",
    "#                  'kernel': ['rbf'],\n",
    "#                  'class_weight':['balanced', None]}\n",
    "\n",
    "# Parameter distributions to use in the randomized search\n",
    "# distributions={'C': scipy.stats.expon(scale=100), 'gamma': scipy.stats.expon(scale=.1),\n",
    "# 'kernel': ['rbf', 'linear'], 'class_weight':['balanced', None]}"
   ]
  },
  {
   "cell_type": "code",
   "execution_count": 71,
   "metadata": {},
   "outputs": [],
   "source": [
    "# Random search is far more efficient than grid search\n",
    "# from sklearn.model_selection import RandomizedSearchCV\n",
    "\n",
    "# clf = RandomizedSearchCV(classifier, distributions, random_state=0)\n",
    "# search = clf.fit(X_train, y_train)\n",
    "# search.best_params_"
   ]
  },
  {
   "cell_type": "code",
   "execution_count": 72,
   "metadata": {},
   "outputs": [
    {
     "data": {
      "text/plain": [
       "SVC(C=1024, cache_size=200, class_weight='balanced', coef0=0.0,\n",
       "  decision_function_shape='ovr', degree=3, gamma=1/1024, kernel='rbf',\n",
       "  max_iter=-1, probability=False, random_state=None, shrinking=True,\n",
       "  tol=0.001, verbose=False)"
      ]
     },
     "execution_count": 72,
     "metadata": {},
     "output_type": "execute_result"
    }
   ],
   "source": [
    "classifier.fit(X_train, y_train)"
   ]
  },
  {
   "cell_type": "code",
   "execution_count": 73,
   "metadata": {},
   "outputs": [],
   "source": [
    "preds = classifier.predict(X_test)"
   ]
  },
  {
   "cell_type": "code",
   "execution_count": 74,
   "metadata": {},
   "outputs": [],
   "source": [
    "hits=0\n",
    "fails=0\n",
    "for i in range(len(y_test)):\n",
    "    if y_test[i] == preds[i]:\n",
    "        hits+=1\n",
    "    else:\n",
    "        fails+=1"
   ]
  },
  {
   "cell_type": "code",
   "execution_count": 75,
   "metadata": {},
   "outputs": [
    {
     "name": "stdout",
     "output_type": "stream",
     "text": [
      "('Hits: 2140', 'Fails: 1160', 'Ratio: 0.648484848485')\n"
     ]
    }
   ],
   "source": [
    "print('Hits: ' + str(hits), 'Fails: '+str(fails), 'Ratio: '+str((float)(hits/(hits+fails))))"
   ]
  },
  {
   "cell_type": "code",
   "execution_count": null,
   "metadata": {},
   "outputs": [],
   "source": []
  }
 ],
 "metadata": {
  "kernelspec": {
   "display_name": "SageMath 8.9",
   "language": "sage",
   "name": "sagemath"
  },
  "language_info": {
   "codemirror_mode": {
    "name": "ipython",
    "version": 2
   },
   "file_extension": ".py",
   "mimetype": "text/x-python",
   "name": "python",
   "nbconvert_exporter": "python",
   "pygments_lexer": "ipython2",
   "version": "2.7.15"
  }
 },
 "nbformat": 4,
 "nbformat_minor": 2
}

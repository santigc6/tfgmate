{
 "cells": [
  {
   "cell_type": "markdown",
   "metadata": {},
   "source": [
    "### ML notebook"
   ]
  },
  {
   "cell_type": "code",
   "execution_count": 1,
   "metadata": {},
   "outputs": [],
   "source": [
    "n_samples = 10000\n",
    "gens_per_ideal = 2"
   ]
  },
  {
   "cell_type": "code",
   "execution_count": 2,
   "metadata": {},
   "outputs": [],
   "source": [
    "# P.<x,y> = PolynomialRing(QQ, 2, order='deglex')\n",
    "P.<x,y> = PolynomialRing(QQ, 2, order='lex')\n",
    "# P.<x,y> = PolynomialRing(QQ, 2, order='degrevlex')\n",
    "# P.<x,y> = PolynomialRing(QQ, 2, order=TermOrder('wdegrevlex',(1,3)))\n",
    "# P.<x,y> = PolynomialRing(QQ, 2, order=TermOrder('negwdegrevlex',(1,3)))"
   ]
  },
  {
   "cell_type": "markdown",
   "metadata": {},
   "source": [
    "#### Functions to create features and label"
   ]
  },
  {
   "cell_type": "code",
   "execution_count": 3,
   "metadata": {},
   "outputs": [],
   "source": [
    "def is_GB_worth(GB): # Receives a GB\n",
    "    n_depend1=0\n",
    "    n_depend2=0\n",
    "    for pol in GB:\n",
    "        depend_x=False\n",
    "        depend_y=False\n",
    "        \n",
    "        # Comprobamos si depende de x y de y\n",
    "        if pol.degree(x) > 0:\n",
    "            depend_x=True\n",
    "        if pol.degree(y) > 0:\n",
    "            depend_y=True\n",
    "            \n",
    "        # Actualizamos el numero de de polinomios que dependen de cada cosa\n",
    "        if depend_x and depend_y:\n",
    "            n_depend2 += 1\n",
    "        elif depend_x or depend_y:\n",
    "            n_depend1 += 1\n",
    "    if n_depend1 >= n_depend2:\n",
    "        return True\n",
    "    else:\n",
    "        return False\n",
    "    \n",
    "def terms_on_x(gens):\n",
    "    count=0\n",
    "    for item in gens:\n",
    "        for exp in item.exponents():\n",
    "            if exp[0] > 0:\n",
    "                count+=1\n",
    "    return count\n",
    "        \n",
    "def terms_on_y(gens):\n",
    "    count=0\n",
    "    for item in gens:\n",
    "        for exp in item.exponents():\n",
    "            if exp[1] > 0:\n",
    "                count+=1\n",
    "    return count"
   ]
  },
  {
   "cell_type": "code",
   "execution_count": 4,
   "metadata": {},
   "outputs": [],
   "source": [
    "from collections import defaultdict\n",
    "\n",
    "def n_homogeneous_comps(pol):\n",
    "    dic = defaultdict(pol.parent())\n",
    "    \n",
    "    for coeff,monom in pol:\n",
    "        dic[monom.degree()] += coeff * monom\n",
    "        \n",
    "    return len(dic)"
   ]
  },
  {
   "cell_type": "markdown",
   "metadata": {},
   "source": [
    "#### Voy a generar una lista de ideales para los polinomios generados aleatoriamente y con información adicional"
   ]
  },
  {
   "cell_type": "code",
   "execution_count": 5,
   "metadata": {
    "scrolled": true
   },
   "outputs": [],
   "source": [
    "def do_experiment():\n",
    "    lstOfIdeals = []\n",
    "    isWorthCount = 0\n",
    "    for i in range(n_samples):\n",
    "        generators = []\n",
    "        n_homogeneous = 0\n",
    "        total_homogeneous_comps=0\n",
    "\n",
    "        for j in range(gens_per_ideal):\n",
    "            p = P.random_element(degree=5)\n",
    "\n",
    "            # homogeneous components for the given polynomial\n",
    "            total_homogeneous_comps += n_homogeneous_comps(p)\n",
    "\n",
    "            generators.append(p)\n",
    "            if p.is_homogeneous():\n",
    "                n_homogeneous += 1\n",
    "\n",
    "        # Definimos el ideal a partir de los generadores anteriores\n",
    "        I = ideal(generators)\n",
    "        B = I.groebner_basis()\n",
    "        isWorth = is_GB_worth(B)\n",
    "        \n",
    "        if isWorth:\n",
    "            isWorthCount+=1\n",
    "        \n",
    "        lstOfIdeals.append([I, \n",
    "                            n_homogeneous, \n",
    "                            terms_on_x(generators), \n",
    "                            terms_on_y(generators), \n",
    "                            terms_on_x(generators) - terms_on_y(generators),\n",
    "                            total_homogeneous_comps, \n",
    "                            isWorth])\n",
    "        \n",
    "    print(\"Worth it bases in the given dataset \"+str(isWorthCount))\n",
    "        \n",
    "    import numpy as np\n",
    "\n",
    "    X = np.array([[item[1],item[2],item[3],item[4],item[5]] for item in lstOfIdeals])\n",
    "    y = np.array([item[6] for item in lstOfIdeals])\n",
    "\n",
    "    from sklearn.model_selection import train_test_split\n",
    "\n",
    "    X_train, X_test, y_train, y_test = train_test_split(X, y, test_size=0.33, random_state=42)\n",
    "    \n",
    "    from sklearn import svm\n",
    "    \n",
    "    classifier = svm.SVC(C= 4096, class_weight= None, gamma= 1/8192, kernel= 'rbf')\n",
    "    \n",
    "    classifier.fit(X_train, y_train)\n",
    "    \n",
    "    preds = classifier.predict(X_test)\n",
    "    \n",
    "    hits=0\n",
    "    fails=0\n",
    "    for i in range(len(y_test)):\n",
    "        if y_test[i] == preds[i]:\n",
    "            hits+=1\n",
    "        else:\n",
    "            fails+=1\n",
    "    \n",
    "    return hits/(hits+fails) # Return score (between 0 and 1)"
   ]
  },
  {
   "cell_type": "code",
   "execution_count": 6,
   "metadata": {
    "scrolled": true
   },
   "outputs": [
    {
     "name": "stdout",
     "output_type": "stream",
     "text": [
      "INFO: iter 1\n",
      "Worth it bases in the given dataset 5431\n",
      "INFO: iter 2\n",
      "Worth it bases in the given dataset 5479\n"
     ]
    }
   ],
   "source": [
    "iters=2\n",
    "t_score=0.0\n",
    "\n",
    "for i in range(iters):\n",
    "    print('INFO: iter '+str(i+1))\n",
    "    t_score += do_experiment()\n",
    "    \n",
    "avg_score=t_score/iters"
   ]
  },
  {
   "cell_type": "code",
   "execution_count": 7,
   "metadata": {
    "scrolled": true
   },
   "outputs": [
    {
     "data": {
      "text/plain": [
       "0.634848484848485"
      ]
     },
     "execution_count": 7,
     "metadata": {},
     "output_type": "execute_result"
    }
   ],
   "source": [
    "avg_score"
   ]
  }
 ],
 "metadata": {
  "kernelspec": {
   "display_name": "SageMath 8.9",
   "language": "sage",
   "name": "sagemath"
  },
  "language_info": {
   "codemirror_mode": {
    "name": "ipython",
    "version": 2
   },
   "file_extension": ".py",
   "mimetype": "text/x-python",
   "name": "python",
   "nbconvert_exporter": "python",
   "pygments_lexer": "ipython2",
   "version": "2.7.15"
  }
 },
 "nbformat": 4,
 "nbformat_minor": 2
}

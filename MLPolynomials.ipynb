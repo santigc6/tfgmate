{
 "cells": [
  {
   "cell_type": "markdown",
   "metadata": {},
   "source": [
    "### ML notebook"
   ]
  },
  {
   "cell_type": "code",
   "execution_count": 112,
   "metadata": {},
   "outputs": [],
   "source": [
    "n_samples = 1000\n",
    "gens_per_ideal = 2"
   ]
  },
  {
   "cell_type": "code",
   "execution_count": 113,
   "metadata": {},
   "outputs": [],
   "source": [
    "# P.<x,y> = PolynomialRing(QQ, 2, order='deglex')\n",
    "P.<x,y> = PolynomialRing(QQ, 2, order='lex')\n",
    "# P.<x,y> = PolynomialRing(QQ, 2, order='degrevlex')\n",
    "# P.<x,y> = PolynomialRing(QQ, 2, order=TermOrder('wdegrevlex',(1,3)))\n",
    "# P.<x,y> = PolynomialRing(QQ, 2, order=TermOrder('negwdegrevlex',(1,3)))"
   ]
  },
  {
   "cell_type": "markdown",
   "metadata": {},
   "source": [
    "#### Functions to create features and label"
   ]
  },
  {
   "cell_type": "code",
   "execution_count": 114,
   "metadata": {},
   "outputs": [],
   "source": [
    "def is_GB_worth(GB): # Receives a GB\n",
    "    n_depend1=0\n",
    "    n_depend2=0\n",
    "    for pol in GB:\n",
    "        depend_x=False\n",
    "        depend_y=False\n",
    "        \n",
    "        # Comprobamos si depende de x y de y\n",
    "        if pol.degree(x) > 0:\n",
    "            depend_x=True\n",
    "        if pol.degree(y) > 0:\n",
    "            depend_y=True\n",
    "            \n",
    "        # Actualizamos el numero de de polinomios que dependen de cada cosa\n",
    "        if depend_x and depend_y:\n",
    "            n_depend2 += 1\n",
    "        elif depend_x or depend_y:\n",
    "            n_depend1 += 1\n",
    "    if n_depend1 >= n_depend2:\n",
    "        return True\n",
    "    else:\n",
    "        return False\n",
    "    \n",
    "def terms_on_x(gens):\n",
    "    count=0\n",
    "    for item in gens:\n",
    "        for exp in item.exponents():\n",
    "            if exp[0] > 0:\n",
    "                count+=1\n",
    "    return count\n",
    "        \n",
    "def terms_on_y(gens):\n",
    "    count=0\n",
    "    for item in gens:\n",
    "        for exp in item.exponents():\n",
    "            if exp[1] > 0:\n",
    "                count+=1\n",
    "    return count"
   ]
  },
  {
   "cell_type": "markdown",
   "metadata": {},
   "source": [
    "#### Voy a generar una lista de ideales para los polinomios generados aleatoriamente y con información adicional"
   ]
  },
  {
   "cell_type": "code",
   "execution_count": 115,
   "metadata": {
    "scrolled": true
   },
   "outputs": [
    {
     "data": {
      "text/plain": [
       "[[Ideal (-2*x*y - 1/23*x - 12*y^2 + 2, -2*x*y - 1/23*x - 12*y^2 + 2, -558*x^2 - 6*x + 1/3*y^2 - 1, -558*x^2 - 6*x + 1/3*y^2 - 1) of Multivariate Polynomial Ring in x, y over Rational Field,\n",
       "  0,\n",
       "  8,\n",
       "  6,\n",
       "  True],\n",
       " [Ideal (3/2*x^2 - 11*x - 39*y^2 - y, 3/2*x^2 - 11*x - 39*y^2 - y, -9*x^2 + 76/29*x*y - y^2 - y + 1, -9*x^2 + 76/29*x*y - y^2 - y + 1) of Multivariate Polynomial Ring in x, y over Rational Field,\n",
       "  0,\n",
       "  8,\n",
       "  10,\n",
       "  True],\n",
       " [Ideal (2*x*y + 2*y - 1, 2*x*y + 2*y - 1, 3/19*x^2 + 1/5*x*y - 1/5*y^2 + 1/2*y - 1, 3/19*x^2 + 1/5*x*y - 1/5*y^2 + 1/2*y - 1) of Multivariate Polynomial Ring in x, y over Rational Field,\n",
       "  0,\n",
       "  6,\n",
       "  10,\n",
       "  True]]"
      ]
     },
     "execution_count": 115,
     "metadata": {},
     "output_type": "execute_result"
    }
   ],
   "source": [
    "lstOfIdeals = []\n",
    "\n",
    "for i in range(n_samples):\n",
    "    generators = []\n",
    "    n_homogeneous = 0\n",
    "    \n",
    "    for j in range(gens_per_ideal):\n",
    "        p = P.random_element()\n",
    "        generators.append(p)\n",
    "        if p.is_homogeneous():\n",
    "            n_homogeneous += 1\n",
    "    # Generadores del ideal en una lista\n",
    "        generators.append(p)\n",
    "    \n",
    "    # Definimos el ideal a partir de los generadores anteriores\n",
    "    I = ideal(generators)\n",
    "    B = I.groebner_basis()\n",
    "    lstOfIdeals.append([I, n_homogeneous, terms_on_x(generators), terms_on_y(generators), is_GB_worth(B)])\n",
    "\n",
    "# Conjunto de polinomios generado de manera aleatoria\n",
    "lstOfIdeals[:3]"
   ]
  },
  {
   "cell_type": "code",
   "execution_count": 116,
   "metadata": {},
   "outputs": [
    {
     "name": "stdout",
     "output_type": "stream",
     "text": [
      "Requirement already satisfied: numpy in /home/santi/SageMath/local/lib/python2.7/site-packages (1.16.1)\r\n",
      "Requirement already satisfied: scipy in /home/santi/SageMath/local/lib/python2.7/site-packages (1.2.0)\r\n",
      "Requirement already satisfied: sklearn in /home/santi/SageMath/local/lib/python2.7/site-packages (0.0)\r\n",
      "Requirement already satisfied: pandas in /home/santi/SageMath/local/lib/python2.7/site-packages (0.24.2)\r\n",
      "Requirement already satisfied: scikit-learn in /home/santi/SageMath/local/lib/python2.7/site-packages (from sklearn) (0.20.4)\r\n",
      "Requirement already satisfied: python-dateutil>=2.5.0 in /home/santi/SageMath/local/lib/python2.7/site-packages (from pandas) (2.5.3)\r\n",
      "Requirement already satisfied: pytz>=2011k in /home/santi/SageMath/local/lib/python2.7/site-packages (from pandas) (2018.7)\r\n",
      "Requirement already satisfied: six>=1.5 in /home/santi/SageMath/local/lib/python2.7/site-packages (from python-dateutil>=2.5.0->pandas) (1.12.0)\r\n"
     ]
    }
   ],
   "source": [
    "!sage --pip install numpy scipy sklearn pandas"
   ]
  },
  {
   "cell_type": "markdown",
   "metadata": {},
   "source": [
    "#### Definimos las features"
   ]
  },
  {
   "cell_type": "code",
   "execution_count": 117,
   "metadata": {},
   "outputs": [],
   "source": [
    "import numpy as np\n",
    "\n",
    "X = np.array([[item[1],item[2],item[3]] for item in lstOfIdeals])\n",
    "y = np.array([item[4] for item in lstOfIdeals])"
   ]
  },
  {
   "cell_type": "code",
   "execution_count": 118,
   "metadata": {},
   "outputs": [
    {
     "data": {
      "text/plain": [
       "array([[ 0,  8,  6],\n",
       "       [ 0,  8, 10],\n",
       "       [ 0,  6, 10],\n",
       "       [ 0,  6,  6],\n",
       "       [ 0, 12,  8]])"
      ]
     },
     "execution_count": 118,
     "metadata": {},
     "output_type": "execute_result"
    }
   ],
   "source": [
    "X[:5]"
   ]
  },
  {
   "cell_type": "code",
   "execution_count": 119,
   "metadata": {},
   "outputs": [
    {
     "data": {
      "text/plain": [
       "array([ True,  True,  True,  True,  True])"
      ]
     },
     "execution_count": 119,
     "metadata": {},
     "output_type": "execute_result"
    }
   ],
   "source": [
    "y[:5]"
   ]
  },
  {
   "cell_type": "code",
   "execution_count": 120,
   "metadata": {},
   "outputs": [],
   "source": [
    "from sklearn.model_selection import train_test_split\n",
    "\n",
    "X_train, X_test, y_train, y_test = train_test_split(X, y, test_size=0.33, random_state=42)"
   ]
  },
  {
   "cell_type": "code",
   "execution_count": 121,
   "metadata": {
    "scrolled": false
   },
   "outputs": [],
   "source": [
    "from sklearn import svm\n",
    "\n",
    "classifier = svm.SVC()"
   ]
  },
  {
   "cell_type": "code",
   "execution_count": 122,
   "metadata": {},
   "outputs": [
    {
     "data": {
      "text/plain": [
       "SVC(C=1.0, cache_size=200, class_weight=None, coef0=0.0,\n",
       "  decision_function_shape='ovr', degree=3, gamma='auto_deprecated',\n",
       "  kernel='rbf', max_iter=-1, probability=False, random_state=None,\n",
       "  shrinking=True, tol=0.001, verbose=False)"
      ]
     },
     "execution_count": 122,
     "metadata": {},
     "output_type": "execute_result"
    }
   ],
   "source": [
    "classifier.fit(X_train, y_train)"
   ]
  },
  {
   "cell_type": "code",
   "execution_count": 123,
   "metadata": {},
   "outputs": [],
   "source": [
    "preds = classifier.predict(X_test)"
   ]
  },
  {
   "cell_type": "code",
   "execution_count": 124,
   "metadata": {},
   "outputs": [],
   "source": [
    "hits=0\n",
    "fails=0\n",
    "for i in range(len(y_test)):\n",
    "    if y_test[i] == preds[i]:\n",
    "        hits+=1\n",
    "    else:\n",
    "        fails+=1"
   ]
  },
  {
   "cell_type": "code",
   "execution_count": 125,
   "metadata": {},
   "outputs": [
    {
     "name": "stdout",
     "output_type": "stream",
     "text": [
      "('Hits: 317', 'Fails: 13')\n"
     ]
    }
   ],
   "source": [
    "print('Hits: ' + str(hits), 'Fails: '+str(fails))"
   ]
  },
  {
   "cell_type": "code",
   "execution_count": null,
   "metadata": {},
   "outputs": [],
   "source": []
  }
 ],
 "metadata": {
  "kernelspec": {
   "display_name": "SageMath 8.9",
   "language": "sage",
   "name": "sagemath"
  },
  "language_info": {
   "codemirror_mode": {
    "name": "ipython",
    "version": 2
   },
   "file_extension": ".py",
   "mimetype": "text/x-python",
   "name": "python",
   "nbconvert_exporter": "python",
   "pygments_lexer": "ipython2",
   "version": "2.7.15"
  }
 },
 "nbformat": 4,
 "nbformat_minor": 2
}
